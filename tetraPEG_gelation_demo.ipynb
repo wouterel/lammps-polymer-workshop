{
  "nbformat": 4,
  "nbformat_minor": 0,
  "metadata": {
    "colab": {
      "provenance": [],
      "collapsed_sections": [
        "B4fa9uv-_Y7f"
      ]
    },
    "kernelspec": {
      "name": "python3",
      "display_name": "Python 3"
    },
    "language_info": {
      "name": "python"
    }
  },
  "cells": [
    {
      "cell_type": "markdown",
      "source": [
        "# License information\n",
        "Demo by Wouter G. Ellenbroek.\n",
        "\n",
        "Distributed under the EUPL-1.0 license.\n",
        "\n",
        "See https://github.com/wouterel/lammps-polymer-workshop for details."
      ],
      "metadata": {
        "id": "-Toqv5Duk8Di"
      }
    },
    {
      "cell_type": "markdown",
      "source": [
        "# Installing LAMMPS and perconet into the Runtime\n",
        "This only needs to be done once with each Colab Runtime. It is unclear how long Runtimes last. They  survive short absences like browser restarts, but will certainly not last more than a few hours when idle.\n",
        "\n",
        "NOTE: During the execution of this section, which may take a few minutes, your session will \"crash\" and restart. This is expected behavior.\n",
        "\n",
        "This section can be collapsed when installing is finished.\n",
        "\n",
        "This section can be skipped if you downloaded this notebook and are using it locally in an environment in which lammps and perconet are already installed."
      ],
      "metadata": {
        "id": "sOldLb_yZghA"
      }
    },
    {
      "cell_type": "code",
      "execution_count": null,
      "metadata": {
        "id": "QUUFRaMZyAY8"
      },
      "outputs": [],
      "source": [
        "try:\n",
        "    import perconet\n",
        "    print(f\"perconet {perconet.__version__} is already installed.\")\n",
        "except ModuleNotFoundError:\n",
        "    !pip install perconet\n",
        "try:\n",
        "    import lammps\n",
        "    print(f\"lammps {lammps.__version__} is already installed.\")\n",
        "except ModuleNotFoundError:\n",
        "    !pip install lammps==2024.8.29.1.0"
      ]
    },
    {
      "cell_type": "markdown",
      "source": [
        "# Test if LAMMPS is installed"
      ],
      "metadata": {
        "id": "tZyDg2SGYXIY"
      }
    },
    {
      "cell_type": "code",
      "source": [
        "try:\n",
        "    import lammps\n",
        "    lmp = lammps.lammps()\n",
        "    lmp.close()\n",
        "    print(\"LAMMPS OK\")\n",
        "except:\n",
        "    print(\"LAMMPS not correctly installed\")\n"
      ],
      "metadata": {
        "id": "mPi6cdPEYViQ"
      },
      "execution_count": null,
      "outputs": []
    },
    {
      "cell_type": "markdown",
      "source": [
        "# Module imports, settings, and function definitions\n",
        "\n",
        "Run this section every time the runtime restarts.\n"
      ],
      "metadata": {
        "id": "Df-mir4uZAaC"
      }
    },
    {
      "cell_type": "code",
      "source": [
        "import os\n",
        "import shutil\n",
        "import lammps\n",
        "import numpy as np\n",
        "import perconet\n",
        "\n",
        "config = {\n",
        "    \"home\": os.getcwd(),\n",
        "    \"scripts_folder\": \"scripts\",\n",
        "    \"script_filename\": \"tetraPEG_gelation.in\"\n",
        "}\n",
        "\n",
        "try:\n",
        "    import google.colab\n",
        "    config[\"colab\"] = True\n",
        "    print(\"Running in Google Colab\")\n",
        "except ModuleNotFoundError as e:\n",
        "    config[\"colab\"] = False\n",
        "    print(\"Running outside of Google Colab\")"
      ],
      "metadata": {
        "id": "aJ9sHYJVY-nN"
      },
      "execution_count": null,
      "outputs": []
    },
    {
      "cell_type": "code",
      "source": [
        "if not os.path.exists(config[\"scripts_folder\"]):\n",
        "    print(f\"Creating scripts folder {config['scripts_folder']}\")\n",
        "    os.mkdir(config[\"scripts_folder\"])\n",
        "else:\n",
        "    if not os.path.isdir(config[\"scripts_folder\"]):\n",
        "        print(f\"File {config['scripts_folder']} already exists but it is not a directory.\")\n",
        "        print(\"Please choose a different name for your folder\")\n",
        "    else:\n",
        "        print(\"Using existing folder for scripts\")"
      ],
      "metadata": {
        "id": "gfhx1sti4tOZ"
      },
      "execution_count": null,
      "outputs": []
    },
    {
      "cell_type": "code",
      "source": [
        "def create_lammps_dict(concentration, Nstars, seed):\n",
        "    lammps_dict = {\n",
        "        \"molA\": \"../scripts/tetraPEG10_A.dat\",\n",
        "        \"molB\": \"../scripts/tetraPEG10_B.dat\",\n",
        "        \"conc_val\": str(concentration),\n",
        "        \"Nstars\": str(Nstars),\n",
        "        \"seed\": str(seed),\n",
        "        \"fileoutput\": f\"N{Nstars}_conc{concentration}_seed{seed}\"}\n",
        "    return lammps_dict"
      ],
      "metadata": {
        "id": "BeBUgHpQh9JM"
      },
      "execution_count": null,
      "outputs": []
    },
    {
      "cell_type": "code",
      "source": [
        "def create_output_folder(fileoutput):\n",
        "    output_folder = f\"out_{fileoutput}\"\n",
        "    output_fullpath =  os.path.join(config[\"home\"], output_folder)\n",
        "    try:\n",
        "        os.mkdir(output_folder)\n",
        "        print(f\"Created output folder {output_folder}\")\n",
        "    except FileExistsError:\n",
        "        print(\"WARNING: Output folder already exists.\")\n",
        "        print(f\"If {output_folder} contains data it could be overwritten.\")\n",
        "    finally:\n",
        "        return output_folder, output_fullpath"
      ],
      "metadata": {
        "id": "B-3kt06bjgPO"
      },
      "execution_count": null,
      "outputs": []
    },
    {
      "cell_type": "code",
      "source": [
        "def zip_results(output):\n",
        "    shutil.make_archive(output, 'zip', output)\n",
        "    if config[\"colab\"]:\n",
        "        google.colab.files.download(f\"{output}.zip\")"
      ],
      "metadata": {
        "id": "4ixnbeT4M38R"
      },
      "execution_count": null,
      "outputs": []
    },
    {
      "cell_type": "markdown",
      "source": [
        "# Generating molecule files"
      ],
      "metadata": {
        "id": "my_zIx30j-eP"
      }
    },
    {
      "cell_type": "code",
      "source": [
        "os.chdir(config[\"home\"])\n",
        "\n",
        "molecule_A = {\"bead label\": \"A\",\n",
        "              \"bead type\": 2,\n",
        "              \"arm length\": 10}\n",
        "molecule_B = {\"bead label\": \"B\",\n",
        "              \"bead type\": 3,\n",
        "              \"arm length\": 10}\n",
        "\n",
        "import numpy as np\n",
        "def write_tetrapeg_molecule_file(molecule_parameters):\n",
        "    type_endbead = molecule_parameters[\"bead type\"]\n",
        "    arm_length = molecule_parameters[\"arm length\"]\n",
        "    bead_label = molecule_parameters[\"bead label\"]\n",
        "    filename = f\"tetraPEG{arm_length}_{molecule_parameters['bead label']}.dat\"\n",
        "    full_filename = os.path.join(config[\"scripts_folder\"], filename)\n",
        "    print(f\"Generating file for molecule {bead_label} with arm length {arm_length} and endbead type {type_endbead}\")\n",
        "    n_bonds = 4 * arm_length\n",
        "    n_atoms = n_bonds + 1\n",
        "    pos = np.zeros((n_atoms, 3), dtype=float)\n",
        "    beadtype = np.full((n_atoms), 6)\n",
        "    beadtype[0] = 1  # center bead\n",
        "    bonds = np.zeros((n_bonds, 2), dtype=int)\n",
        "    bonds[:, 0] = range(1, n_bonds+1)\n",
        "    bonds[:, 1] = range(2, n_bonds+2)\n",
        "    dist = np.asarray(range(1,arm_length+1))\n",
        "    for arm in range(4):\n",
        "        direction = arm % 2  # this maps to x, y, x, y\n",
        "        sign = 1 - arm + direction  # this maps to 1, 1, -1, -1\n",
        "        pos[arm * arm_length + 1: (arm+1) * arm_length + 1, direction] = sign * dist\n",
        "        beadtype[(arm+1) * arm_length] = type_endbead\n",
        "        bonds[(arm) * arm_length, 0] = 1\n",
        "\n",
        "    with open(full_filename, 'w') as f:\n",
        "        print(f\"  Writing {full_filename}\")\n",
        "        f.write(f\"\\n\\n{n_atoms} atoms\\n{n_bonds} bonds\\n\\n\")\n",
        "        f.write(\"Coords\\n\")\n",
        "        for i, pos_i in enumerate(pos):\n",
        "            f.write(f\"\\n{(i+1):5}\")\n",
        "            for ax in range(3):\n",
        "                f.write(f\" {pos_i[ax]:8.1f}\")\n",
        "        f.write(\"\\n\\nTypes\\n\\n\")\n",
        "        for i, type_i in enumerate(beadtype):\n",
        "            f.write(f\"{(i+1):5} {type_i:5}\\n\")\n",
        "        f.write(\"\\nBonds\\n\\n\")\n",
        "        for i, bond_i in enumerate(bonds):\n",
        "            f.write(f\"{(i+1):5}     1 {bond_i[0]:6} {bond_i[1]:6}\\n\")\n",
        "\n",
        "write_tetrapeg_molecule_file(molecule_A)\n",
        "write_tetrapeg_molecule_file(molecule_B)"
      ],
      "metadata": {
        "id": "pEO1xnwKjyIj"
      },
      "execution_count": null,
      "outputs": []
    },
    {
      "cell_type": "markdown",
      "source": [
        "# Generating LAMMPS script\n",
        "To avoid losing your edits, running this block will generate the script **only if there is currently no script with the same filename**. Delete the current script from the `scripts` folder (or rename it) if you want to re-generate the default script."
      ],
      "metadata": {
        "id": "B4fa9uv-_Y7f"
      }
    },
    {
      "cell_type": "code",
      "source": [
        "full_filename = os.path.join(config[\"scripts_folder\"], config[\"script_filename\"])\n",
        "print(full_filename)\n",
        "if os.path.exists(full_filename):\n",
        "    print(f\"Not generating script because {full_filename} already exists\")\n",
        "else:\n",
        "    with open(full_filename, \"w\") as f:\n",
        "        f.write(\"\"\"log log_${fileoutput}.txt\n",
        "\n",
        "# basic simulation settings\n",
        "units lj\n",
        "atom_style bond\n",
        "\n",
        "# define simulation box\n",
        "variable init_size equal \"800\"\n",
        "region mybox block 0 ${init_size} 0 ${init_size} 0 ${init_size}\n",
        "\n",
        "# create box with extra parameters to reserve space for adding molecules\n",
        "create_box 6 mybox bond/types 2 extra/special/per/atom 100 extra/bond/per/atom 4\n",
        "\n",
        "# specify files that contain molecule data\n",
        "molecule stara ${molA}\n",
        "molecule starb ${molB}\n",
        "\n",
        "# Set masses of atom types\n",
        "# Types 4 and 5 are unused here but need to be set anyway\n",
        "mass 1 1\n",
        "mass 2 1\n",
        "mass 3 1\n",
        "mass 4 1\n",
        "mass 5 1\n",
        "mass 6 1\n",
        "\n",
        "# create_atoms <offset> random <number to make> <random seed> <region> mol <mol id> <another random seed>\n",
        "create_atoms 0 random ${Nstars} 1 mybox mol stara 1337\n",
        "create_atoms 0 random ${Nstars} 2 mybox mol starb 1338\n",
        "\n",
        "# define some variables\n",
        "variable   conc equal ${conc_val}\n",
        "variable   r0 equal \"1\"\n",
        "variable   sigma_coeff equal \"1.3\"\n",
        "variable   sigma equal \"v_r0 * v_sigma_coeff\"\n",
        "variable   rcut equal \"v_sigma * 2.0 ^ (1.0/6.0)\"  # Here F = 0 for lj/cut\n",
        "\n",
        "variable   v_init equal \"v_init_size*v_init_size*v_init_size\"\n",
        "variable   v_final equal \"atoms * ((v_sigma)^3)/(v_conc/100)\"\n",
        "variable   boxsize equal \"v_v_final^(1.0/3.0)\"\n",
        "variable   scale equal \"(v_v_final/v_v_init)^(1.0/3.0)\"\n",
        "variable   compression_steps equal \"ceil(100000/(v_conc))\"\n",
        "variable   n_mon equal \"v_Nstars * 2\"\n",
        "\n",
        "print \"Number of steps for compression: ${compression_steps}\"\n",
        "print \"Scale factor: ${scale}\"\n",
        "print \"Final box size: ${boxsize}\"\n",
        "\n",
        "# set variable to be used as temperature in any future fixes\n",
        "variable temperature equal 1.0\n",
        "\n",
        "# define particle groups in case we need to do any analysis on them\n",
        "group   center type 1\n",
        "group   irr_binding type 2 3 4\n",
        "\n",
        "# define pair potential\n",
        "pair_style lj/cut ${rcut}\n",
        "pair_coeff * * 1.0 ${sigma} ${rcut}           # Purely repulsive interactions\n",
        "pair_modify shift yes  # shift the potential up so that V(rcut)=0\n",
        "\n",
        "# define bond potential\n",
        "bond_style      harmonic            # Harmonic bonds\n",
        "bond_coeff      1 50.0 ${r0}        # Bond coefficients. Spring constant 50.0,\n",
        "bond_coeff      2 50.0 ${r0}        # Bond coefficients. Spring constant 50.0,\n",
        "\n",
        "# use a large-radius neighbor list during compression phase\n",
        "comm_modify mode single cutoff 9.0\n",
        "neighbor 7.0 bin\n",
        "neigh_modify delay 20 every 2 check yes\n",
        "\n",
        "# initialize velocities using Maxwell-Boltzmann distribution\n",
        "velocity all create ${temperature} ${seed}\n",
        "\n",
        "# minimize potential energy to avoid large forces in first timestep\n",
        "minimize 1e-6 1e-10 10000 100000\n",
        "reset_timestep 0\n",
        "\n",
        "fix\tstep all nve            # Time integrator\n",
        "\n",
        "variable sleft equal \"cpuremain\"         # Est. simulation time remaining (seconds)\n",
        "variable hleft equal \"v_sleft / 3600.0\"  # Est. simulation time remaining (hours)\n",
        "\n",
        "# Custom output to log file and screen\n",
        "thermo_style custom v_hleft time step pe ke etotal epair emol press\n",
        "thermo 5000\n",
        "\n",
        "# We use the same seed for the thermostat as for the initialization.\n",
        "fix    temp all langevin ${temperature} ${temperature} 300 ${seed}\n",
        "\n",
        "# Compress the simulation box to the desired density\n",
        "fix    compress all deform 1 x scale ${scale} y scale ${scale} z scale ${scale}\n",
        "run ${compression_steps}\n",
        "unfix compress\n",
        "\n",
        "# Save simulation box to a data file (positions, bonds, etc)\n",
        "# This is used by analysis/plotting routines to have the molecular topology at the beginning\n",
        "write_data monomer_equilibration_topology_${n_mon}_conc${conc}_seed${seed}.dat pair ij\n",
        "\n",
        "# This block sets up a mean square displacement calculation. Can be freely removed\n",
        "compute cmd center msd\n",
        "variable time_now equal time\n",
        "variable t0  equal ${time_now}\n",
        "variable t   equal \"time - v_t0\"\n",
        "variable dx2 equal c_cmd[4]\n",
        "fix print all print 5000 \"$t ${dx2}\" file msd_${fileoutput}.txt screen no\n",
        "\n",
        "# Change the neighbor list settings to better match the next bit (no more box volume changes, higher density)\n",
        "comm_modify mode single cutoff 2.0\n",
        "neighbor 0.5 bin\n",
        "neigh_modify delay 4 every 2 check yes\n",
        "\n",
        "# Setup up dump file for positions of particles as a function of time and run equilibration\n",
        "dump traj all custom 500 monomer_equilibration_trajectory${n_mon}_4_arms_conc${conc}_seed${seed}.bin id mol type x y z\n",
        "run 20000\n",
        "undump traj\n",
        "\n",
        "# syntax of the bond/create fix: fix ID group-ID bond/create Nevery itype jtype Rmin bondtype keyword\n",
        "# so we are checking every timestep if a particle of type 2 and one of type 3 are within r_bond from\n",
        "# each other and if so we create a bond of type 2 between them and turn both of them into type 4.\n",
        "variable r_bond equal \"v_sigma\"\n",
        "fix newbond all bond/create 1 2 3  ${r_bond} 2 iparam 1 4 jparam  1 4\n",
        "thermo_style custom v_hleft time step pe ke etotal epair emol press f_newbond[2]\n",
        "\n",
        "# Save simulation box to another data file\n",
        "write_data gelation_initial_topology_${n_mon}_conc${conc}_seed${seed}.dat pair ij\n",
        "\n",
        "# Set up regular dump file for positions\n",
        "dump traj all custom 500 gelation_trajectory${n_mon}_4_arms_conc${conc}_seed${seed}.bin id mol type x y z\n",
        "\n",
        "# Set up special dump file for bond information (used by e.g. Ovito to know which particles are bonded)\n",
        "variable type4 atom \"type == 4\"\n",
        "group newlinks dynamic all var type4 every 1000\n",
        "compute bonds all property/local batom1 batom2 btype\n",
        "dump crosslinks all local 500 gelation_bondinfo_${fileoutput}.dump c_bonds[1] c_bonds[2] c_bonds[3]\n",
        "\n",
        "# count how many new crosslinks are created and save to file\n",
        "variable countbond4 equal f_newbond[2]\n",
        "variable step0 equal step\n",
        "\n",
        "fix print_bondsformed all print 5000 \"${step0} ${countbond4}\" file crosslink_${fileoutput}.txt screen no\n",
        "\n",
        "run 200000\n",
        "\n",
        "# Finally store the current snapshot to apply percolation checks and stuff.\n",
        "# write_restart final_snapshot_${fileoutput}.restart\n",
        "write_data final_snapshot_${fileoutput}.data pair ij\n",
        "\"\"\")"
      ],
      "metadata": {
        "id": "3eICE7Ed_XXA"
      },
      "execution_count": null,
      "outputs": []
    },
    {
      "cell_type": "markdown",
      "source": [
        "# Running Gelation Simulations\n",
        "This section contains preparation code block and a simulation code block."
      ],
      "metadata": {
        "id": "z4U5JvTXfR3q"
      }
    },
    {
      "cell_type": "code",
      "source": [
        "# Set the parameters of the next simulations\n",
        "\n",
        "lammps_dict = create_lammps_dict(concentration=8, Nstars=8, seed=188)  # should percolate in y and z\n",
        "# lammps_dict = create_lammps_dict(concentration=8, Nstars=8, seed=189)  # should percolate in all directions\n",
        "print(lammps_dict)\n",
        "\n",
        "# Create the output folder\n",
        "# Note that the simulation does not write directly to Google Drive but stores data\n",
        "# In the Runtime first and moves it after the simulation is finished.\n",
        "output_folder, output_fullpath = create_output_folder(lammps_dict[\"fileoutput\"])"
      ],
      "metadata": {
        "id": "yD5VPjbrjzaM"
      },
      "execution_count": null,
      "outputs": []
    },
    {
      "cell_type": "code",
      "source": [
        "# RUN SIMULATION (should take about 30 seconds with the default script)\n",
        "\n",
        "# Make the output directory the working directory and start LAMMPS\n",
        "os.chdir(output_fullpath)\n",
        "lmp = lammps.lammps()\n",
        "\n",
        "# Set variables one would normally set via commandline options\n",
        "for var, value in lammps_dict.items():\n",
        "    lmp.command(f'variable {var} string \"{value}\"')\n",
        "\n",
        "# Execute the LAMMPS script\n",
        "lmp.file(os.path.join(\"..\", config[\"scripts_folder\"], config[\"script_filename\"]))\n",
        "\n",
        "# Save final state in some Python variables\n",
        "final_box = lmp.extract_box()\n",
        "box_dimensions = np.asarray(final_box[1]) - np.asarray(final_box[0])\n",
        "final_pos = np.reshape(lmp.gather_atoms(\"x\", 1, 3), (-1, 3))\n",
        "final_bonds = np.reshape(lmp.gather_bonds()[1],(-1, 3))\n",
        "\n",
        "# Close the LAMMPS process (flushes buffered outputs)\n",
        "lmp.close()\n",
        "\n",
        "# Download results\n",
        "os.chdir(\"..\")\n",
        "zip_results(output_folder)"
      ],
      "metadata": {
        "id": "mRnezFcWDf9w"
      },
      "execution_count": null,
      "outputs": []
    },
    {
      "cell_type": "markdown",
      "source": [
        "# Percolation analysis\n",
        "This uses the variables that were extracted from the lammps object at the end of the last simulation run to see whether the gelation process led to a percolating gel.\n",
        "\n",
        "The `perconet` package employed was written by Chiara Raffaelli and Wouter Ellenbroek. For documentation see [https://perconet.readthedocs.io/](https://perconet.readthedocs.io/)"
      ],
      "metadata": {
        "id": "atpOI6aeckKf"
      }
    },
    {
      "cell_type": "code",
      "source": [
        "# Create PeriodicNetwork object for percolation analysis\n",
        "topology = perconet.PeriodicNetwork(n=len(final_pos), verbose=False)\n",
        "\n",
        "# Add bonds (including boundary-crossing info) to PeriodicNetwork object\n",
        "for bond in final_bonds:\n",
        "    i = bond[1] - 1  # LAMMPS is 1-based but perconet is 0-based\n",
        "    j = bond[2] - 1\n",
        "    bondvec = final_pos[j] - final_pos[i]\n",
        "    boundary_crossing_vector = np.round(bondvec/box_dimensions)\n",
        "    topology.add_edge(i, j, boundary_crossing_vector)\n",
        "\n",
        "# Find boundary-crossing loops in network\n",
        "loopfinder = perconet.LoopFinder(topology, verbose=False)\n",
        "loops, Nloops = loopfinder.get_independent_loops()\n",
        "\n",
        "if Nloops == 0:\n",
        "    print(\"Network does not percolate\")\n",
        "else:\n",
        "    print(f\"Network percolates in {Nloops} independent directions\")\n",
        "    for loop in loops:\n",
        "        if np.all(loop == [1, 0, 0]):\n",
        "            print(\"  Network percolates in x-direction\")\n",
        "        if np.all(loop == [0, 1, 0]):\n",
        "            print(\"  Network percolates in y-direction\")\n",
        "        if np.all(loop == [0, 0, 1]):\n",
        "            print(\"  Network percolates in z-direction\")\n",
        "    print(\"List of independent loops:\")\n",
        "    for loop in loops:\n",
        "        print(\" *\", loop)"
      ],
      "metadata": {
        "id": "BCyk8kJeEb4-"
      },
      "execution_count": null,
      "outputs": []
    }
  ]
}